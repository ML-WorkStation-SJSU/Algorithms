{
 "cells": [
  {
   "cell_type": "markdown",
   "metadata": {},
   "source": [
    "### Graph"
   ]
  },
  {
   "cell_type": "code",
   "execution_count": 11,
   "metadata": {},
   "outputs": [],
   "source": [
    "# 133 clone Graph\n",
    "\"\"\"\n",
    "# Definition for a Node.\n",
    "class Node:\n",
    "    def __init__(self, val = 0, neighbors = []):\n",
    "        self.val = val\n",
    "        self.neighbors = neighbors\n",
    "\"\"\"\n",
    "class Solution:\n",
    "    def cloneGraph(self, node: 'Node') -> 'Node':\n",
    "        if not node:\n",
    "            return None\n",
    "        copied_node = {}\n",
    "        return self.cloneNode(node, copied_node)\n",
    "        \n",
    "    def cloneNode(self, node: 'Node', copied_node: 'dict') -> 'Node':\n",
    "        if node.val in copied_node:\n",
    "            return copied_node[node.val]\n",
    "        new_node = Node(node.val, [])\n",
    "        copied_node[node.val] = new_node\n",
    "        for each in node.neighbors:\n",
    "            # copy neightbors\n",
    "            new_node.neighbors.append(self.cloneNode(each, copied_node))\n",
    "        return new_node\n",
    "                \n"
   ]
  },
  {
   "cell_type": "markdown",
   "metadata": {},
   "source": []
  },
  {
   "cell_type": "code",
   "execution_count": 13,
   "metadata": {},
   "outputs": [],
   "source": [
    "class Solution:\n",
    "    def canFinish(self, numCourses: int, prerequisites) -> bool:\n",
    "        # construct graph\n",
    "        graph = [[] for i in range(numCourses)]\n",
    "        for pre in prerequisites:\n",
    "            graph[pre[0]].append(pre[1])\n",
    "        \n",
    "        # visited = [0 for i in range(numCourses)]\n",
    "        result = True\n",
    "        visited = [0 for i in range(numCourses)]\n",
    "        for i in range(numCourses):\n",
    "            result &= self.checkLoop (i, graph, visited)\n",
    "            \n",
    "        return result\n",
    "            \n",
    "        \n",
    "    def checkLoop(self, pos: int, graph: list, visited: list):\n",
    "        if graph[pos] == []:\n",
    "            return True\n",
    "        if visited[pos] == -1:\n",
    "            return False\n",
    "        visited[pos] = -1\n",
    "        for each in graph[pos]:\n",
    "            if self.checkLoop(each, graph, visited):\n",
    "                visited[pos] = 0\n",
    "                continue\n",
    "            else:\n",
    "                return False\n",
    "        return True\n",
    "    \n",
    "# 速度太慢啦"
   ]
  },
  {
   "cell_type": "code",
   "execution_count": null,
   "metadata": {},
   "outputs": [],
   "source": []
  },
  {
   "cell_type": "code",
   "execution_count": null,
   "metadata": {},
   "outputs": [],
   "source": []
  }
 ],
 "metadata": {
  "kernelspec": {
   "display_name": "Python 3",
   "language": "python",
   "name": "python3"
  },
  "language_info": {
   "codemirror_mode": {
    "name": "ipython",
    "version": 3
   },
   "file_extension": ".py",
   "mimetype": "text/x-python",
   "name": "python",
   "nbconvert_exporter": "python",
   "pygments_lexer": "ipython3",
   "version": "3.7.0"
  }
 },
 "nbformat": 4,
 "nbformat_minor": 2
}
